{
 "cells": [
  {
   "cell_type": "markdown",
   "metadata": {
    "colab_type": "text",
    "id": "amoo2jS81XNa"
   },
   "source": [
    "# Python Quickstart\n",
    "## Conditions, Loops and Blocks\n",
    "In this notebook we will look at Python's conditional, looping and block constructs. We will also look at some output formatting"
   ]
  },
  {
   "cell_type": "markdown",
   "metadata": {
    "colab_type": "text",
    "id": "TGshp3nJTOBi"
   },
   "source": [
    "#### Simple Conditions and blocks"
   ]
  },
  {
   "cell_type": "code",
   "execution_count": 0,
   "metadata": {
    "colab": {},
    "colab_type": "code",
    "id": "4Wyz-IUXTdps"
   },
   "outputs": [],
   "source": [
    "attendancePercentage = 70\n",
    "# In the code below the two print statements are one block. \n",
    "# They are indented by 4-spaces to convey that\n",
    "if attendancePercentage < 75:\n",
    "    print(\"Attendance requirement for Merit certificate not met\")\n",
    "    print(\"Partcipation Certificate only\")"
   ]
  },
  {
   "cell_type": "code",
   "execution_count": 0,
   "metadata": {
    "colab": {},
    "colab_type": "code",
    "id": "eiofx0fDTiLa"
   },
   "outputs": [],
   "source": [
    "attendancePercentage = 80\n",
    "# In the code below the two print statements are one block. \n",
    "# They are indented by 4-spaces to convey that\n",
    "if attendancePercentage < 75:\n",
    "    print(\"Attendance requirement for Merit certificate not met\")\n",
    "    print(\"Partcipation Certificate only\")"
   ]
  },
  {
   "cell_type": "markdown",
   "metadata": {
    "colab_type": "text",
    "id": "Emr6kqok1XNy"
   },
   "source": [
    "As you can see there is no output if the condition is not met"
   ]
  },
  {
   "cell_type": "markdown",
   "metadata": {
    "colab_type": "text",
    "id": "EtNcuPAETN46"
   },
   "source": [
    "##### Else Statement"
   ]
  },
  {
   "cell_type": "code",
   "execution_count": 0,
   "metadata": {
    "colab": {},
    "colab_type": "code",
    "id": "OyfbCbhxTvYa"
   },
   "outputs": [],
   "source": [
    "attendancePercentage = 80\n",
    "\n",
    "if attendancePercentage < 75:\n",
    "    print(\"Attendance requirement for Merit certificate not met\")\n",
    "    print(\"Partcipation Certificate only\")\n",
    "else:\n",
    "    print(\"Attendance requirement for Merit certificate met\")\n",
    "    print(\"Verify grades\")"
   ]
  },
  {
   "cell_type": "markdown",
   "metadata": {
    "colab_type": "text",
    "id": "WVIq0Gc-TN1W"
   },
   "source": [
    "##### Else if ladder"
   ]
  },
  {
   "cell_type": "code",
   "execution_count": 1,
   "metadata": {
    "colab": {
     "base_uri": "https://localhost:8080/",
     "height": 52
    },
    "colab_type": "code",
    "executionInfo": {
     "elapsed": 1163,
     "status": "ok",
     "timestamp": 1540709158189,
     "user": {
      "displayName": "Asokan Pichai",
      "photoUrl": "https://lh3.googleusercontent.com/-BwTc3H0i5_U/AAAAAAAAAAI/AAAAAAAAAmI/udtEPD3pAJA/s64/photo.jpg",
      "userId": "07563113289497356182"
     },
     "user_tz": -330
    },
    "id": "DJU1Gs8GT2vy",
    "outputId": "7940677d-3e62-450d-b232-ae7c638b215d"
   },
   "outputs": [
    {
     "name": "stdout",
     "output_type": "stream",
     "text": [
      "Attendance requirement for Merit certificate met\n",
      "Grade Requirement for Merit Certificate met\n"
     ]
    }
   ],
   "source": [
    "attendancePercentage = 80\n",
    "gradePoints = 320\n",
    "if attendancePercentage < 75:\n",
    "    print(\"Attendance requirement for Merit certificate not met\")\n",
    "    print(\"Participation Certificate only\")\n",
    "elif gradePoints < 300:\n",
    "    print(\"Attendance requirement for Merit certificate met\")\n",
    "    print(\"But insufficient grade\")\n",
    "    print(\"Participation Certificate only\")\n",
    "else:\n",
    "    print(\"Attendance requirement for Merit certificate met\")\n",
    "    print(\"Grade Requirement for Merit Certificate met\")"
   ]
  },
  {
   "cell_type": "markdown",
   "metadata": {
    "colab_type": "text",
    "id": "vN9prcUzSGbQ"
   },
   "source": [
    "#### Simple While loop"
   ]
  },
  {
   "cell_type": "code",
   "execution_count": 4,
   "metadata": {
    "colab": {
     "base_uri": "https://localhost:8080/",
     "height": 106
    },
    "colab_type": "code",
    "executionInfo": {
     "elapsed": 1079,
     "status": "ok",
     "timestamp": 1540709354378,
     "user": {
      "displayName": "Asokan Pichai",
      "photoUrl": "https://lh3.googleusercontent.com/-BwTc3H0i5_U/AAAAAAAAAAI/AAAAAAAAAmI/udtEPD3pAJA/s64/photo.jpg",
      "userId": "07563113289497356182"
     },
     "user_tz": -330
    },
    "id": "6o82u9jgSrt4",
    "outputId": "731c21ae-0faa-411a-e352-42d40f0dbd98"
   },
   "outputs": [
    {
     "name": "stdout",
     "output_type": "stream",
     "text": [
      "0\n",
      "1\n",
      "2\n",
      "3\n",
      "4\n"
     ]
    }
   ],
   "source": [
    "#Lets write a while loop to print numbers from 0 to 4 \n",
    "x = 0\n",
    "while x < 5:\n",
    "     print(x)\n",
    "     x += 1"
   ]
  },
  {
   "cell_type": "markdown",
   "metadata": {},
   "source": [
    "#### Blocks are indicated by indent"
   ]
  },
  {
   "cell_type": "code",
   "execution_count": 3,
   "metadata": {
    "colab": {
     "base_uri": "https://localhost:8080/",
     "height": 134
    },
    "colab_type": "code",
    "executionInfo": {
     "elapsed": 896,
     "status": "error",
     "timestamp": 1540709320592,
     "user": {
      "displayName": "Asokan Pichai",
      "photoUrl": "https://lh3.googleusercontent.com/-BwTc3H0i5_U/AAAAAAAAAAI/AAAAAAAAAmI/udtEPD3pAJA/s64/photo.jpg",
      "userId": "07563113289497356182"
     },
     "user_tz": -330
    },
    "id": "K4PAp6g1bZO9",
    "outputId": "4b76735f-01b6-4e60-8265-fd924827c44f",
    "scrolled": true
   },
   "outputs": [
    {
     "ename": "IndentationError",
     "evalue": "ignored",
     "output_type": "error",
     "traceback": [
      "\u001b[0;36m  File \u001b[0;32m\"<ipython-input-3-516ba12bd28b>\"\u001b[0;36m, line \u001b[0;32m3\u001b[0m\n\u001b[0;31m    print(\"Less ndent\")\u001b[0m\n\u001b[0m                       ^\u001b[0m\n\u001b[0;31mIndentationError\u001b[0m\u001b[0;31m:\u001b[0m unindent does not match any outer indentation level\n"
     ]
    }
   ],
   "source": [
    "if True:\n",
    "    print(\"True\")\n",
    "   print(\"Less indent\")"
   ]
  },
  {
   "cell_type": "code",
   "execution_count": 1,
   "metadata": {},
   "outputs": [
    {
     "ename": "IndentationError",
     "evalue": "unexpected indent (<ipython-input-1-a2af501379ec>, line 3)",
     "output_type": "error",
     "traceback": [
      "\u001b[0;36m  File \u001b[0;32m\"<ipython-input-1-a2af501379ec>\"\u001b[0;36m, line \u001b[0;32m3\u001b[0m\n\u001b[0;31m    print(\"More indent\")\u001b[0m\n\u001b[0m    ^\u001b[0m\n\u001b[0;31mIndentationError\u001b[0m\u001b[0;31m:\u001b[0m unexpected indent\n"
     ]
    }
   ],
   "source": [
    "if True:\n",
    "    print(\"True\")\n",
    "     print(\"More indent\")"
   ]
  },
  {
   "cell_type": "code",
   "execution_count": 0,
   "metadata": {
    "colab": {},
    "colab_type": "code",
    "id": "4j0AnUtbS9jq"
   },
   "outputs": [],
   "source": [
    "#### Combining conditions\n",
    "We can combine conditions using **and**, **or** and **not** operators"
   ]
  },
  {
   "cell_type": "code",
   "execution_count": 0,
   "metadata": {
    "colab": {},
    "colab_type": "code",
    "id": "7Q8SaGDP1XOY"
   },
   "outputs": [],
   "source": [
    "attendancePercentage = 80\n",
    "gradePoints = 320\n",
    "if attendancePercentage >= 75 and gradePoints >= 300:\n",
    "    print(\"Attendance and grade requirement for Merit certificate met\")\n",
    "else: \n",
    "    print(\"Either attendance of grade (or both) insufficient\")\n",
    "    print(\"Participation certificate only\")"
   ]
  },
  {
   "cell_type": "markdown",
   "metadata": {
    "colab_type": "text",
    "id": "CifE3XpO1XOf"
   },
   "source": [
    "##### More on blocks\n",
    "* blocks start below a line ending in :\n",
    "* all lines in a block are indented (by 4 spaces)\n",
    "* Nested blocks --> nested indenting\n",
    "* End of block --> unindent\n"
   ]
  },
  {
   "cell_type": "code",
   "execution_count": 0,
   "metadata": {
    "colab": {},
    "colab_type": "code",
    "id": "ojFY-NQH1XOh"
   },
   "outputs": [],
   "source": [
    "mark = 76\n",
    "if mark < 40:\n",
    "    status = \"Fail\"\n",
    "    letterGrade = \"F\"\n",
    "else:\n",
    "    status = \"Pass\"\n",
    "    if mark < 50:\n",
    "        letterGrade = \"D\"\n",
    "    elif mark < 60:\n",
    "        letterGrade = \"C\"\n",
    "    elif mark < 75:\n",
    "        letterGrade = \"B\"\n",
    "    elif mark < 90:\n",
    "        letterGrade = \"A\"\n",
    "    else:\n",
    "        letterGrade = \"A+\""
   ]
  },
  {
   "cell_type": "markdown",
   "metadata": {
    "colab": {},
    "colab_type": "code",
    "id": "3CO8nFOq1XOp"
   },
   "source": [
    "#### Python Special\n",
    "Often we have to compare if a value is between two limits; say if a number is between 17 and 21. Or if a string is lexicographically between \"Alpha\" and \"Omega\" \n",
    "\n",
    "In almost all languages this needs a compund condition with **and**\n",
    "The pythonic way is:"
   ]
  },
  {
   "cell_type": "code",
   "execution_count": 1,
   "metadata": {
    "colab": {},
    "colab_type": "code",
    "id": "NDoWLKL61XOv"
   },
   "outputs": [
    {
     "data": {
      "text/plain": [
       "True"
      ]
     },
     "execution_count": 1,
     "metadata": {},
     "output_type": "execute_result"
    }
   ],
   "source": [
    "x = 19\n",
    "17 < x < 21"
   ]
  },
  {
   "cell_type": "code",
   "execution_count": 2,
   "metadata": {},
   "outputs": [
    {
     "data": {
      "text/plain": [
       "True"
      ]
     },
     "execution_count": 2,
     "metadata": {},
     "output_type": "execute_result"
    }
   ],
   "source": [
    "s =\"Gamma\"\n",
    "\"Alpha\" < s < \"Omega\""
   ]
  },
  {
   "cell_type": "code",
   "execution_count": 3,
   "metadata": {},
   "outputs": [
    {
     "data": {
      "text/plain": [
       "False"
      ]
     },
     "execution_count": 3,
     "metadata": {},
     "output_type": "execute_result"
    }
   ],
   "source": [
    "s = \"Theta\"\n",
    "\"Alpha\" < s < \"Omega\""
   ]
  },
  {
   "cell_type": "markdown",
   "metadata": {},
   "source": [
    "We can also do\n",
    "\n",
    "a < b < c < d, a > b > c > e etc "
   ]
  },
  {
   "cell_type": "markdown",
   "metadata": {},
   "source": [
    "#### More loop examples\n",
    "With some print options"
   ]
  },
  {
   "cell_type": "code",
   "execution_count": 2,
   "metadata": {},
   "outputs": [
    {
     "name": "stdout",
     "output_type": "stream",
     "text": [
      "10 8 6 4 2 "
     ]
    }
   ],
   "source": [
    "n = 10\n",
    "while n > 0:\n",
    "    print(n, end=\" \")\n",
    "    n -= 2"
   ]
  },
  {
   "cell_type": "code",
   "execution_count": 3,
   "metadata": {},
   "outputs": [
    {
     "name": "stdout",
     "output_type": "stream",
     "text": [
      "17::20\n",
      "14::16\n",
      "13::18\n",
      "10::14\n",
      "9::16\n",
      "6::12\n"
     ]
    }
   ],
   "source": [
    "a, b = 17, 20\n",
    "while a > 5 and b > 7:\n",
    "    print(a, b, sep=\"::\")\n",
    "    if a % 2 == 0:\n",
    "        a -= 1\n",
    "        b += 2\n",
    "    else:\n",
    "        a -= 3\n",
    "        b -= 4\n",
    "    "
   ]
  },
  {
   "cell_type": "markdown",
   "metadata": {},
   "source": [
    "Python has **break** and **continue** statements"
   ]
  },
  {
   "cell_type": "code",
   "execution_count": null,
   "metadata": {},
   "outputs": [],
   "source": []
  }
 ],
 "metadata": {
  "colab": {
   "name": "Week0-01-Conditions.ipynb",
   "provenance": [],
   "version": "0.3.2"
  },
  "kernelspec": {
   "display_name": "Python 3",
   "language": "python",
   "name": "python3"
  },
  "language_info": {
   "codemirror_mode": {
    "name": "ipython",
    "version": 3
   },
   "file_extension": ".py",
   "mimetype": "text/x-python",
   "name": "python",
   "nbconvert_exporter": "python",
   "pygments_lexer": "ipython3",
   "version": "3.9.2"
  }
 },
 "nbformat": 4,
 "nbformat_minor": 1
}
