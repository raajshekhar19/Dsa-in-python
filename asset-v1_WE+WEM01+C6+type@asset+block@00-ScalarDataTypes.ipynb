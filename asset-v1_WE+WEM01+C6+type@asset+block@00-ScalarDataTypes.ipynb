{
 "cells": [
  {
   "cell_type": "markdown",
   "metadata": {
    "colab_type": "text",
    "id": "1n0x0UNgsS2k"
   },
   "source": [
    "# Python Quickstart"
   ]
  },
  {
   "cell_type": "markdown",
   "metadata": {
    "colab_type": "text",
    "id": "_EO_XgDNsS2o"
   },
   "source": [
    "## Scalar Data Types and Operations\n",
    "Python has four scalar data types:\n",
    "  * Integer\n",
    "  * Float\n",
    "  * Boolean\n",
    "  * Complex\n",
    "  \n",
    "We will review these in this notebook"
   ]
  },
  {
   "cell_type": "markdown",
   "metadata": {
    "colab_type": "text",
    "id": "SN8LD46qsS2r"
   },
   "source": [
    "#### Integers\n",
    "The usual arithmetic operators are available: + for addition, - for subtraction and * for multiplication. "
   ]
  },
  {
   "cell_type": "code",
   "execution_count": 1,
   "metadata": {
    "colab": {
     "base_uri": "https://localhost:8080/",
     "height": 123
    },
    "colab_type": "code",
    "executionInfo": {
     "elapsed": 1246,
     "status": "ok",
     "timestamp": 1540708449197,
     "user": {
      "displayName": "Asokan Pichai",
      "photoUrl": "https://lh3.googleusercontent.com/-BwTc3H0i5_U/AAAAAAAAAAI/AAAAAAAAAmI/udtEPD3pAJA/s64/photo.jpg",
      "userId": "07563113289497356182"
     },
     "user_tz": -330
    },
    "id": "qKeyOlOzsS2t",
    "outputId": "735cbf6c-2324-438d-ea62-71af0524c6ae"
   },
   "outputs": [
    {
     "name": "stdout",
     "output_type": "stream",
     "text": [
      "6\n",
      "12879\n",
      "4\n",
      "-1\n",
      "48\n",
      "204\n"
     ]
    }
   ],
   "source": [
    "print(2 + 4)\n",
    "print(12878 + 1)\n",
    "print(7 - 3)\n",
    "print(127 - 128)\n",
    "print(8 * 6)\n",
    "print(17 * 12)"
   ]
  },
  {
   "cell_type": "markdown",
   "metadata": {
    "colab_type": "text",
    "id": "06Il024lsS22"
   },
   "source": [
    "There are *two* division operators: / for everyday (float) division and // for truncating (integer) division "
   ]
  },
  {
   "cell_type": "code",
   "execution_count": 2,
   "metadata": {
    "colab": {
     "base_uri": "https://localhost:8080/",
     "height": 52
    },
    "colab_type": "code",
    "executionInfo": {
     "elapsed": 1396,
     "status": "ok",
     "timestamp": 1540708553032,
     "user": {
      "displayName": "Asokan Pichai",
      "photoUrl": "https://lh3.googleusercontent.com/-BwTc3H0i5_U/AAAAAAAAAAI/AAAAAAAAAmI/udtEPD3pAJA/s64/photo.jpg",
      "userId": "07563113289497356182"
     },
     "user_tz": -330
    },
    "id": "6aK-b8Y2sS24",
    "outputId": "79c42dcc-2841-4e60-bf66-a7aa2ad26241"
   },
   "outputs": [
    {
     "name": "stdout",
     "output_type": "stream",
     "text": [
      "4.25\n",
      "4\n"
     ]
    }
   ],
   "source": [
    "print(17 / 4)\n",
    "print(17 // 4)"
   ]
  },
  {
   "cell_type": "markdown",
   "metadata": {
    "colab_type": "text",
    "id": "9OOQ7zvPsS3A"
   },
   "source": [
    "The modulo operator % and the exponentiation operator ** are also available. "
   ]
  },
  {
   "cell_type": "code",
   "execution_count": 3,
   "metadata": {
    "colab": {
     "base_uri": "https://localhost:8080/",
     "height": 52
    },
    "colab_type": "code",
    "executionInfo": {
     "elapsed": 810,
     "status": "ok",
     "timestamp": 1540708574567,
     "user": {
      "displayName": "Asokan Pichai",
      "photoUrl": "https://lh3.googleusercontent.com/-BwTc3H0i5_U/AAAAAAAAAAI/AAAAAAAAAmI/udtEPD3pAJA/s64/photo.jpg",
      "userId": "07563113289497356182"
     },
     "user_tz": -330
    },
    "id": "35CmYM9wsS3C",
    "outputId": "3b73bac1-808c-493d-810f-b34b63da2804"
   },
   "outputs": [
    {
     "name": "stdout",
     "output_type": "stream",
     "text": [
      "0\n",
      "2\n"
     ]
    }
   ],
   "source": [
    "print(18 % 3)\n",
    "print(72 % 5)"
   ]
  },
  {
   "cell_type": "markdown",
   "metadata": {
    "colab_type": "text",
    "id": "e6h2Kk45sS3J"
   },
   "source": [
    "The usual operator precedence rules and use of parentheses to override that are available"
   ]
  },
  {
   "cell_type": "code",
   "execution_count": 4,
   "metadata": {
    "colab": {
     "base_uri": "https://localhost:8080/",
     "height": 70
    },
    "colab_type": "code",
    "executionInfo": {
     "elapsed": 822,
     "status": "ok",
     "timestamp": 1540708579166,
     "user": {
      "displayName": "Asokan Pichai",
      "photoUrl": "https://lh3.googleusercontent.com/-BwTc3H0i5_U/AAAAAAAAAAI/AAAAAAAAAmI/udtEPD3pAJA/s64/photo.jpg",
      "userId": "07563113289497356182"
     },
     "user_tz": -330
    },
    "id": "gHaHUE6KsS3K",
    "outputId": "8d3708c6-ada3-4ccc-b072-02a0b10e8d65"
   },
   "outputs": [
    {
     "name": "stdout",
     "output_type": "stream",
     "text": [
      "697\n",
      "99999999999997\n",
      "100000000000\n"
     ]
    }
   ],
   "source": [
    "print(10 ** 2 * 7 - 3)\n",
    "print(10 ** (2 * 7) - 3)\n",
    "print(10 ** (2 * 7 - 3))"
   ]
  },
  {
   "cell_type": "code",
   "execution_count": 5,
   "metadata": {
    "colab": {
     "base_uri": "https://localhost:8080/",
     "height": 55
    },
    "colab_type": "code",
    "executionInfo": {
     "elapsed": 1340,
     "status": "ok",
     "timestamp": 1540708652470,
     "user": {
      "displayName": "Asokan Pichai",
      "photoUrl": "https://lh3.googleusercontent.com/-BwTc3H0i5_U/AAAAAAAAAAI/AAAAAAAAAmI/udtEPD3pAJA/s64/photo.jpg",
      "userId": "07563113289497356182"
     },
     "user_tz": -330
    },
    "id": "iCK8wuAJsS3V",
    "outputId": "50315dd0-b353-4a9a-8884-6e9507764e75"
   },
   "outputs": [
    {
     "name": "stdout",
     "output_type": "stream",
     "text": [
      "16525142209084993191965006835763122499561597357637591794155674917234996428269575026659311571104864762535215407339432025590200538603976411404665218963132749322871667982441827882227157442592136572835697580577002943964988221911059026994173582484825742195247291274759850603140432379764091790235567190410675775962900183452599412165317638067230891810990320580666085441050593869791350699216706517499542670586634886052087017820410905964444558869146418244597120429979103952092989164512800101011289347426567208710314190920051270092607459721109467521365360867288677987148464165171800839333951163324994371057187155074288402580629483476314944738104051656987325576751746199897991725007675051190921500213097278325465310845327692821587282052558972419335977552331758871843917747361680407582186786845621204537100698991060543436203623306857249583543655261625672302666146321225012176753336990522783934569223056690766496718252983683782843733092440515617564413473287954103794045711047712057255205852448996227930510006654133990692542855217294512837210434893756516028226640878645078889659700398063987176958529714138681978573509244436047691111260571288258822913673872128802087371995371780730292804920437219071178492423446466136195210620476292495642233626623524484774842235569435364457370920604187855961201427694409086738818734179775480506491103409681069586764431872764246928575351402521596827446479057664892851033162935831488388586010557338099224042101494315540594304042449301967359499617939535411896225730077553783377044776817568632883120001902487637069313199225266430652807663817329473484291017357180673944238586738708836888630931091307582137544304928416633716526356540412661645917963030190835162802558120190639251182068601\n"
     ]
    }
   ],
   "source": [
    "a = 123456789 \n",
    "b = a ** 2\n",
    "c = b ** 3\n",
    "d = c ** 5\n",
    "e = d ** 7\n",
    "print(e)"
   ]
  },
  {
   "cell_type": "markdown",
   "metadata": {
    "colab_type": "text",
    "id": "0dn0wQcgsS3c"
   },
   "source": [
    "##### Assignment operators\n",
    "The standard assignment operators are available. That is,  $\\alpha$  $\\odot=\\beta$ is a shorthand for $\\alpha = \\alpha \\odot \\beta$\n",
    "where $\\odot$ is any binary arithmetic operator we saw above"
   ]
  },
  {
   "cell_type": "code",
   "execution_count": 6,
   "metadata": {
    "colab": {
     "base_uri": "https://localhost:8080/",
     "height": 70
    },
    "colab_type": "code",
    "executionInfo": {
     "elapsed": 1753,
     "status": "ok",
     "timestamp": 1540708721302,
     "user": {
      "displayName": "Asokan Pichai",
      "photoUrl": "https://lh3.googleusercontent.com/-BwTc3H0i5_U/AAAAAAAAAAI/AAAAAAAAAmI/udtEPD3pAJA/s64/photo.jpg",
      "userId": "07563113289497356182"
     },
     "user_tz": -330
    },
    "id": "L5fVA3cbsS3d",
    "outputId": "f0c7e9ff-93d7-4a38-cf38-362684caa184"
   },
   "outputs": [
    {
     "name": "stdout",
     "output_type": "stream",
     "text": [
      "17 5\n",
      "12 5\n",
      "60 5\n"
     ]
    }
   ],
   "source": [
    "a = 12\n",
    "b = 5\n",
    "a += b\n",
    "print(a, b)\n",
    "a -= b\n",
    "print(a, b)\n",
    "a *= b\n",
    "print(a, b)"
   ]
  },
  {
   "cell_type": "markdown",
   "metadata": {
    "colab_type": "text",
    "id": "CRojcyvEsS3k"
   },
   "source": [
    "#### Boolean\n",
    "The two constants True and False are defined.\n",
    "\n",
    "The usual boolean operators are also available: ==, !=, >, >=, <, <= "
   ]
  },
  {
   "cell_type": "code",
   "execution_count": null,
   "metadata": {
    "colab": {
     "base_uri": "https://localhost:8080/",
     "height": 35
    },
    "colab_type": "code",
    "executionInfo": {
     "elapsed": 992,
     "status": "ok",
     "timestamp": 1540708729695,
     "user": {
      "displayName": "Asokan Pichai",
      "photoUrl": "https://lh3.googleusercontent.com/-BwTc3H0i5_U/AAAAAAAAAAI/AAAAAAAAAmI/udtEPD3pAJA/s64/photo.jpg",
      "userId": "07563113289497356182"
     },
     "user_tz": -330
    },
    "id": "iIiWZ9hVsS3n",
    "outputId": "9e2521e5-d597-4c94-9759-0f0cc5230cbe"
   },
   "outputs": [
    {
     "ename": "",
     "evalue": "",
     "output_type": "error",
     "traceback": [
      "\u001b[1;31mRunning cells with 'c:\\Python312\\python.exe' requires the ipykernel package.\n",
      "\u001b[1;31mRun the following command to install 'ipykernel' into the Python environment. \n",
      "\u001b[1;31mCommand: 'c:/Python312/python.exe -m pip install ipykernel -U --user --force-reinstall'"
     ]
    }
   ],
   "source": [
    "a = 12\n",
    "b = 13\n",
    "print(a == b - 1,a == b, a != b, a < b, a >= b)"
   ]
  },
  {
   "cell_type": "markdown",
   "metadata": {},
   "source": [
    "Python also has a nice extension for boolean operators"
   ]
  },
  {
   "cell_type": "code",
   "execution_count": 8,
   "metadata": {},
   "outputs": [
    {
     "data": {
      "text/plain": [
       "True"
      ]
     },
     "execution_count": 8,
     "metadata": {},
     "output_type": "execute_result"
    }
   ],
   "source": [
    "a < b < 20"
   ]
  },
  {
   "cell_type": "markdown",
   "metadata": {
    "colab_type": "text",
    "id": "jly-_eC9sS3u"
   },
   "source": [
    "#### Float\n",
    "Python has a float datatype (and it is the same as C's double!) and the above operations are available"
   ]
  },
  {
   "cell_type": "code",
   "execution_count": 9,
   "metadata": {
    "colab": {
     "base_uri": "https://localhost:8080/",
     "height": 123
    },
    "colab_type": "code",
    "executionInfo": {
     "elapsed": 985,
     "status": "ok",
     "timestamp": 1540708748138,
     "user": {
      "displayName": "Asokan Pichai",
      "photoUrl": "https://lh3.googleusercontent.com/-BwTc3H0i5_U/AAAAAAAAAAI/AAAAAAAAAmI/udtEPD3pAJA/s64/photo.jpg",
      "userId": "07563113289497356182"
     },
     "user_tz": -330
    },
    "id": "RjQ5ftEmsS3z",
    "outputId": "7c6bf112-37dd-44f7-8d4d-f198c118cb73"
   },
   "outputs": [
    {
     "name": "stdout",
     "output_type": "stream",
     "text": [
      "12.9\n",
      "3.6\n",
      "16.5\n",
      "9.3\n",
      "46.440000000000005\n",
      "3.5833333333333335\n"
     ]
    }
   ],
   "source": [
    "a = 12.9\n",
    "b = 3.6\n",
    "c = a + b\n",
    "d = a - b\n",
    "e = a * b #Watch out for the round off error!\n",
    "f = a / b\n",
    "print(a, b, c, d, e, f, sep=\"\\n\")"
   ]
  },
  {
   "cell_type": "code",
   "execution_count": 10,
   "metadata": {
    "colab": {
     "base_uri": "https://localhost:8080/",
     "height": 88
    },
    "colab_type": "code",
    "executionInfo": {
     "elapsed": 1079,
     "status": "ok",
     "timestamp": 1540708794115,
     "user": {
      "displayName": "Asokan Pichai",
      "photoUrl": "https://lh3.googleusercontent.com/-BwTc3H0i5_U/AAAAAAAAAAI/AAAAAAAAAmI/udtEPD3pAJA/s64/photo.jpg",
      "userId": "07563113289497356182"
     },
     "user_tz": -330
    },
    "id": "fcoYmB9fsS3-",
    "outputId": "717c0f7e-0979-493e-a8a9-135675c1ac4b"
   },
   "outputs": [
    {
     "name": "stdout",
     "output_type": "stream",
     "text": [
      "0.6666666666666666\n",
      "False\n",
      "7.105427357601002e-15\n",
      "True\n"
     ]
    }
   ],
   "source": [
    "##### UNDERSTAND FLOATING POINT IS ALWAYS APPROXIMATE!\n",
    "print(2/3)\n",
    "##### NEVER COMPARE floats FOR EQUALITY\n",
    "print(12.9 * 3.6 == 46.44)\n",
    "print(12.9 * 3.6 - 46.44)\n",
    "EPSILON = 0.0000001\n",
    "print(abs(12.9 * 3.6 - 46.44) <= EPSILON)"
   ]
  },
  {
   "cell_type": "markdown",
   "metadata": {
    "colab_type": "text",
    "id": "p2labHwQsS4F"
   },
   "source": [
    "#### Complex\n",
    "Complex numbers are built-in"
   ]
  },
  {
   "cell_type": "code",
   "execution_count": 11,
   "metadata": {
    "colab": {
     "base_uri": "https://localhost:8080/",
     "height": 88
    },
    "colab_type": "code",
    "executionInfo": {
     "elapsed": 836,
     "status": "ok",
     "timestamp": 1540708831882,
     "user": {
      "displayName": "Asokan Pichai",
      "photoUrl": "https://lh3.googleusercontent.com/-BwTc3H0i5_U/AAAAAAAAAAI/AAAAAAAAAmI/udtEPD3pAJA/s64/photo.jpg",
      "userId": "07563113289497356182"
     },
     "user_tz": -330
    },
    "id": "Dz3Ub5RosS4G",
    "outputId": "1cd31e2a-4280-46e2-9870-5d2794784b45"
   },
   "outputs": [
    {
     "name": "stdout",
     "output_type": "stream",
     "text": [
      "(3-4j)\n",
      "3.0\n",
      "-4.0\n",
      "5.0\n"
     ]
    }
   ],
   "source": [
    "z = 3 - 4j\n",
    "print(z, z.real, z.imag, abs(z), sep=\"\\n\")"
   ]
  },
  {
   "cell_type": "code",
   "execution_count": null,
   "metadata": {
    "colab": {},
    "colab_type": "code",
    "id": "r83i-IAqsS4L"
   },
   "outputs": [],
   "source": [
    "x = 5 + 12j"
   ]
  },
  {
   "cell_type": "code",
   "execution_count": 13,
   "metadata": {
    "colab": {},
    "colab_type": "code",
    "id": "QTIr1OZ0sS4S"
   },
   "outputs": [
    {
     "name": "stdout",
     "output_type": "stream",
     "text": [
      "(8+8j)\n",
      "(-2-16j)\n",
      "(63+16j)\n",
      "(-1.32+2.24j)\n"
     ]
    }
   ],
   "source": [
    "print(z + x, z - x, z * x, x / z, sep=\"\\n\")"
   ]
  },
  {
   "cell_type": "markdown",
   "metadata": {
    "colab_type": "text",
    "id": "GWzDnyjjsS4Y"
   },
   "source": [
    "#### Variables\n",
    "We have been using variables already. Python variable naming rules are simple and similar to all major programming languages\n",
    " * must start with a letter\n",
    " * can have letters, numbers and underscore\n",
    " * case sensitive\n",
    "\n",
    "*Note that we need not declare variables but using an undefined variable is an error*"
   ]
  },
  {
   "cell_type": "code",
   "execution_count": 1,
   "metadata": {
    "colab": {},
    "colab_type": "code",
    "id": "1hclSpY0sS4Z"
   },
   "outputs": [
    {
     "ename": "NameError",
     "evalue": "name 'p' is not defined",
     "output_type": "error",
     "traceback": [
      "\u001b[0;31m---------------------------------------------------------------------------\u001b[0m",
      "\u001b[0;31mNameError\u001b[0m                                 Traceback (most recent call last)",
      "\u001b[0;32m<ipython-input-1-e177df2b0f91>\u001b[0m in \u001b[0;36m<module>\u001b[0;34m\u001b[0m\n\u001b[0;32m----> 1\u001b[0;31m \u001b[0mz\u001b[0m \u001b[0;34m=\u001b[0m \u001b[0;36m3\u001b[0m \u001b[0;34m-\u001b[0m \u001b[0;36m4\u001b[0m\u001b[0;34m*\u001b[0m\u001b[0mp\u001b[0m\u001b[0;34m\u001b[0m\u001b[0;34m\u001b[0m\u001b[0m\n\u001b[0m",
      "\u001b[0;31mNameError\u001b[0m: name 'p' is not defined"
     ]
    }
   ],
   "source": [
    "z = 3 - 4*p"
   ]
  },
  {
   "cell_type": "markdown",
   "metadata": {},
   "source": [
    "Unicode variable names are available "
   ]
  },
  {
   "cell_type": "code",
   "execution_count": null,
   "metadata": {},
   "outputs": [
    {
     "ename": "",
     "evalue": "",
     "output_type": "error",
     "traceback": [
      "\u001b[1;31mRunning cells with 'c:\\Users\\user\\AppData\\Local\\Programs\\Python\\Python311\\python.exe' requires the ipykernel package.\n",
      "\u001b[1;31mRun the following command to install 'ipykernel' into the Python environment. \n",
      "\u001b[1;31mCommand: 'c:/Users/user/AppData/Local/Programs/Python/Python311/python.exe -m pip install ipykernel -U --user --force-reinstall'"
     ]
    }
   ],
   "source": [
    "a = 5\n",
    "b = 6\n",
    "c = -7\n",
    "\n",
    "α = (-b + (b * b - 4 * a * c) ** 0.5)/2 * a\n",
    "β = (-b - (b * b - 4 * a * c) ** 0.5)/2 * a\n",
    "\n",
    "print(f\"The two roots of {a}x^2 + {b}x {c} are {α:.5} and {β:.5}\")"
   ]
  },
  {
   "cell_type": "markdown",
   "metadata": {},
   "source": [
    "The above formatting is known as f-strings. You can read about it here: https://docs.python.org/3.7/tutorial/inputoutput.html#formatted-string-literals"
   ]
  },
  {
   "cell_type": "code",
   "execution_count": null,
   "metadata": {},
   "outputs": [],
   "source": []
  }
 ],
 "metadata": {
  "colab": {
   "name": "Week0-00-BasicOperations.ipynb",
   "provenance": [],
   "version": "0.3.2"
  },
  "kernelspec": {
   "display_name": "Python 3",
   "language": "python",
   "name": "python3"
  },
  "language_info": {
   "codemirror_mode": {
    "name": "ipython",
    "version": 3
   },
   "file_extension": ".py",
   "mimetype": "text/x-python",
   "name": "python",
   "nbconvert_exporter": "python",
   "pygments_lexer": "ipython3",
   "version": "3.11.5"
  }
 },
 "nbformat": 4,
 "nbformat_minor": 1
}
