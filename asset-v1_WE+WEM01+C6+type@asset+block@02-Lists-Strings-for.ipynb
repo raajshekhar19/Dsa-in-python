{
 "cells": [
  {
   "cell_type": "markdown",
   "metadata": {
    "colab_type": "text",
    "id": "PjerStuq6R2n"
   },
   "source": [
    "# Python Quickstart\n",
    "#### Lists and strings\n",
    "#### for\n",
    "Lists are the simplest containers that are an integral part of the Python language. **for** loops are the standard way to iterate over all types of containers; so we will look at both of them together."
   ]
  },
  {
   "cell_type": "code",
   "execution_count": null,
   "metadata": {},
   "outputs": [],
   "source": []
  },
  {
   "cell_type": "markdown",
   "metadata": {
    "colab_type": "text",
    "id": "TcAdxy7dW6Wc"
   },
   "source": [
    "#### strings\n",
    "Python strings can be enlosed in single quotes or double quotes or triple quotes! Let us look at each of them"
   ]
  },
  {
   "cell_type": "code",
   "execution_count": null,
   "metadata": {
    "colab": {},
    "colab_type": "code",
    "id": "Sw7fMNEOW9bi"
   },
   "outputs": [],
   "source": [
    "grading = \"Tests, Quizzes, Individual Labs, Group Labs and Hackathons\"\n",
    "print(grading)"
   ]
  },
  {
   "cell_type": "code",
   "execution_count": null,
   "metadata": {
    "colab": {},
    "colab_type": "code",
    "id": "so4ipaxUXMPS"
   },
   "outputs": [],
   "source": [
    "tests = \"CFU's, Analytical, References and Comprehension\"\n",
    "print(tests)"
   ]
  },
  {
   "cell_type": "markdown",
   "metadata": {
    "colab_type": "text",
    "id": "3gTJCEKqXox4"
   },
   "source": [
    "Note how in the string *tests* the single quote is accepted as part of the string without any special escpae mechanism. Similarly we can create and use strings with double quotes inside by enclosing the whole string in single quotes. Here is an example."
   ]
  },
  {
   "cell_type": "code",
   "execution_count": null,
   "metadata": {
    "colab": {},
    "colab_type": "code",
    "id": "28eCGUkJXoY2"
   },
   "outputs": [],
   "source": [
    "faq = 'Almost all ask \"What is the best k?\" when doing kNN'\n",
    "print(faq)"
   ]
  },
  {
   "cell_type": "markdown",
   "metadata": {
    "colab_type": "text",
    "id": "T9e3wDov6R3M"
   },
   "source": [
    "Triple quoted strings are best used for documentation. They are also useful for storing long strings.\n",
    " * We can use single or double quotes\n",
    " * We can also use single quotes or double quotes within\n",
    " * The line breaks etc are captured; that is there is no need for \\n"
   ]
  },
  {
   "cell_type": "code",
   "execution_count": null,
   "metadata": {
    "colab": {},
    "colab_type": "code",
    "id": "gHz79V3G6R3P"
   },
   "outputs": [],
   "source": [
    "story = \"\"\"A long time ago, in a galaxy far far away ...\n",
    "\n",
    "It is a period of civil war. Rebel spaceships, striking \n",
    "from a hidden base, have won their first victory against \n",
    "the evil Galactic Empire.\n",
    "\n",
    "During the battle, Rebel spies managed to steal secret \n",
    "plans to the Empire's ultimate weapon, the DEATH STAR, \n",
    "an armored space station with enough power to destroy an entire planet.\n",
    "\n",
    "Pursued by the Empire's sinister agents, Princess Leia \n",
    "races home aboard her starship, custodian of the stolen \n",
    "plans that can save her people and restore freedom to the galaxy....\"\"\"\n",
    "print(story)"
   ]
  },
  {
   "cell_type": "markdown",
   "metadata": {
    "colab_type": "text",
    "id": "YEXtThZIX0SA"
   },
   "source": [
    "##### Simple string operations\n",
    " * Concatnate by +, \n",
    " * multiple concatenation by * \n",
    " * check for substring with **in**\n",
    " * determine the size (number of characters) using *len*"
   ]
  },
  {
   "cell_type": "code",
   "execution_count": null,
   "metadata": {
    "colab": {},
    "colab_type": "code",
    "id": "Bin4e9DD6R3Y"
   },
   "outputs": [
    {
     "ename": "",
     "evalue": "",
     "output_type": "error",
     "traceback": [
      "\u001b[1;31mRunning cells with 'c:\\Users\\Priyal\\AppData\\Local\\Programs\\Python\\Python39\\python.exe' requires the ipykernel package.\n",
      "\u001b[1;31mRun the following command to install 'ipykernel' into the Python environment. \n",
      "\u001b[1;31mCommand: 'c:/Users/Priyal/AppData/Local/Programs/Python/Python39/python.exe -m pip install ipykernel -U --user --force-reinstall'"
     ]
    }
   ],
   "source": [
    "h = \"Hello\"\n",
    "w = \"world!\"\n",
    "hw = h + w\n",
    "print(hw)\n",
    "hsw = h + ' ' + w\n",
    "print(hsw)\n",
    "h4s3w2 = 4 * h + \" \" * 3 + w * 2\n",
    "print(h4s3w2)\n",
    "print(h in hsw)\n",
    "print(' ' in hw)\n",
    "print(len(h4s3w2))"
   ]
  },
  {
   "cell_type": "markdown",
   "metadata": {
    "colab_type": "text",
    "id": "o1YBOu2v6R3f"
   },
   "source": [
    "#### Lists\n",
    "Let us take a look at lists. A list is a collection of things, enclosed in [] and separated by commas. A list is heterogenous; that is the data types of the things need not be the same."
   ]
  },
  {
   "cell_type": "code",
   "execution_count": null,
   "metadata": {
    "colab": {},
    "colab_type": "code",
    "id": "RKbOr8eM6R3h"
   },
   "outputs": [],
   "source": [
    "f = [1, 1, 2, 3, 5, 8]\n",
    "p = [2, 3, 5, 7]\n",
    "grading = [\"Tests\", \"Quizzes\", \"Individual Labs\", \"Group Labs\", \"Hackathons\"]\n",
    "grades = [300, 60, 120, 60, 120]\n",
    "oddjob = [1, 5.6, True, 4-7j, \"Hello\", [1, 2], [3.9, \"World\"]]"
   ]
  },
  {
   "cell_type": "code",
   "execution_count": null,
   "metadata": {
    "colab": {},
    "colab_type": "code",
    "id": "qO7TKDYUXz_I"
   },
   "outputs": [],
   "source": [
    "print(len(grading))"
   ]
  },
  {
   "cell_type": "code",
   "execution_count": null,
   "metadata": {
    "colab": {},
    "colab_type": "code",
    "id": "KY34LciJ6R3y"
   },
   "outputs": [],
   "source": [
    "# We access individual elements using the index\n",
    "# The first element is at index 0\n",
    "print(grades[1], oddjob[4])\n",
    "# We access the elements from the back using negative indices\n",
    "# -1 is the last, -2 is the last but one and so on\n",
    "print(grading[-1], grading[-3])"
   ]
  },
  {
   "cell_type": "code",
   "execution_count": null,
   "metadata": {
    "colab": {},
    "colab_type": "code",
    "id": "nvc_UX5DXUvS"
   },
   "outputs": [],
   "source": [
    "print(sum(f), sum(p))"
   ]
  },
  {
   "cell_type": "code",
   "execution_count": null,
   "metadata": {
    "colab": {},
    "colab_type": "code",
    "id": "c1CQj0qfX9rS"
   },
   "outputs": [],
   "source": [
    "print(max(grades), min(grades))"
   ]
  },
  {
   "cell_type": "markdown",
   "metadata": {
    "colab_type": "text",
    "id": "rp56AiOF6R4I"
   },
   "source": [
    "#### For\n",
    "We can step through the items in a collection, such as a list or string (and many others) using **for**"
   ]
  },
  {
   "cell_type": "code",
   "execution_count": null,
   "metadata": {
    "colab": {},
    "colab_type": "code",
    "id": "KXEwDe6eYAyK"
   },
   "outputs": [],
   "source": [
    "for num in f:\n",
    "    print(num)"
   ]
  },
  {
   "cell_type": "code",
   "execution_count": null,
   "metadata": {
    "colab_type": "text",
    "id": "YhLhMcQjYKlo"
   },
   "outputs": [],
   "source": [
    "for test in grading:\n",
    "    print(test)"
   ]
  },
  {
   "cell_type": "markdown",
   "metadata": {
    "colab_type": "text",
    "id": "jJQ3_fHt6R4W"
   },
   "source": [
    "Note the absence of the usual *index* variable etc. We can step through the characters in a string the same way"
   ]
  },
  {
   "cell_type": "code",
   "execution_count": null,
   "metadata": {
    "colab": {},
    "colab_type": "code",
    "id": "OjHy3Lej6R4Z"
   },
   "outputs": [],
   "source": [
    "for ch in \"Hello\":\n",
    "    print(ch)"
   ]
  },
  {
   "cell_type": "code",
   "execution_count": null,
   "metadata": {
    "colab": {},
    "colab_type": "code",
    "id": "rrfZ6AHJYGUq"
   },
   "outputs": [],
   "source": [
    "#### List methods"
   ]
  },
  {
   "cell_type": "code",
   "execution_count": null,
   "metadata": {
    "colab": {},
    "colab_type": "code",
    "id": "g0NYrdIcYSnS"
   },
   "outputs": [],
   "source": [
    "print(f)"
   ]
  },
  {
   "cell_type": "code",
   "execution_count": null,
   "metadata": {
    "colab": {},
    "colab_type": "code",
    "id": "etnU-RY7Y35i"
   },
   "outputs": [],
   "source": [
    "f.append(13)\n",
    "print(f)"
   ]
  },
  {
   "cell_type": "code",
   "execution_count": null,
   "metadata": {
    "colab": {},
    "colab_type": "code",
    "id": "-GffS_CxZ27-"
   },
   "outputs": [],
   "source": [
    "f.extend([21, 34, 55, 89])\n",
    "print(f)"
   ]
  },
  {
   "cell_type": "code",
   "execution_count": null,
   "metadata": {
    "colab": {},
    "colab_type": "code",
    "id": "aPuIEVEQZC2k"
   },
   "outputs": [],
   "source": [
    "p = p + [11, 13, 17, 19]\n",
    "print(p)"
   ]
  },
  {
   "cell_type": "markdown",
   "metadata": {
    "colab_type": "text",
    "id": "wVSIgk_mZjli"
   },
   "source": [
    "#### Slicing\n",
    "We can get substrings and sublists using a slice"
   ]
  },
  {
   "cell_type": "code",
   "execution_count": null,
   "metadata": {
    "colab": {},
    "colab_type": "code",
    "id": "_24F0GauZf4s"
   },
   "outputs": [],
   "source": [
    "print(f)\n",
    "print(f[2:7])\n",
    "print(f[2:11:3])\n",
    "print(p[::-1])"
   ]
  },
  {
   "cell_type": "code",
   "execution_count": null,
   "metadata": {
    "colab": {},
    "colab_type": "code",
    "id": "joopNHQdZpX8"
   },
   "outputs": [],
   "source": [
    "# We can slice strings too\n",
    "print(h4s3w2[11:26])\n",
    "print(hsw[2::3])\n",
    "print(hw[::-1])"
   ]
  }
 ],
 "metadata": {
  "colab": {
   "name": "Week0-02-lists.ipynb",
   "provenance": [],
   "version": "0.3.2"
  },
  "kernelspec": {
   "display_name": "Python 3",
   "language": "python",
   "name": "python3"
  },
  "language_info": {
   "codemirror_mode": {
    "name": "ipython",
    "version": 3
   },
   "file_extension": ".py",
   "mimetype": "text/x-python",
   "name": "python",
   "nbconvert_exporter": "python",
   "pygments_lexer": "ipython3",
   "version": "3.9.5"
  }
 },
 "nbformat": 4,
 "nbformat_minor": 1
}
